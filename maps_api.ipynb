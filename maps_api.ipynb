{
 "metadata": {
  "language_info": {
   "codemirror_mode": {
    "name": "ipython",
    "version": 3
   },
   "file_extension": ".py",
   "mimetype": "text/x-python",
   "name": "python",
   "nbconvert_exporter": "python",
   "pygments_lexer": "ipython3",
   "version": "3.8.3-final"
  },
  "orig_nbformat": 2,
  "kernelspec": {
   "name": "python_defaultSpec_1600875240895",
   "display_name": "Python 3"
  }
 },
 "nbformat": 4,
 "nbformat_minor": 2,
 "cells": [
  {
   "cell_type": "code",
   "execution_count": 12,
   "metadata": {},
   "outputs": [
    {
     "output_type": "execute_result",
     "data": {
      "text/plain": "True"
     },
     "metadata": {},
     "execution_count": 12
    }
   ],
   "source": [
    "import requests\n",
    "import os\n",
    "from dotenv import load_dotenv\n",
    "\n",
    "load_dotenv()"
   ]
  },
  {
   "cell_type": "code",
   "execution_count": 13,
   "metadata": {},
   "outputs": [],
   "source": [
    "API_key = os.environ[\"API_KEY_MAPS\"]\n",
    "API_endpoint_url = \"https://maps.googleapis.com/maps/api/staticmap\"\n",
    "IMAGE_DIR = \"C:/Users/fonss/Documents/Programacion/GIT/sid_image_extractor/maps_images/\"\n"
   ]
  },
  {
   "cell_type": "code",
   "execution_count": 14,
   "metadata": {},
   "outputs": [],
   "source": [
    "def get_image(center, zoom, size, img_name):\n",
    "    API_endpoint_params = {\n",
    "        'center': str(center['lat']) + ',' + str(center['lon']),\n",
    "        'zoom': zoom,\n",
    "        'maptype':'satellite',\n",
    "        'size': str(size) + 'x' + str(size),\n",
    "        'scale':1,\n",
    "        'key': API_key,\n",
    "    }\n",
    "    res = requests.get(url = API_endpoint_url, params = API_endpoint_params)\n",
    "    image_ref = IMAGE_DIR + img_name + '_' + str(zoom) + '_' + str(size) + '.png'\n",
    "\n",
    "    with open(image_ref,'wb') as f:\n",
    "        f.write(res.content)\n",
    "\n",
    "    return res.content\n"
   ]
  },
  {
   "cell_type": "code",
   "execution_count": 15,
   "metadata": {
    "tags": []
   },
   "outputs": [],
   "source": [
    "villages = [\n",
    "{\n",
    "    'name':'Monnon',\n",
    "    'center': {'lat':9.842512545857295,'lon':3.178864159225679},\n",
    "    'area': 0.31116161693500705\n",
    "},\n",
    "{\n",
    "    'name':'Sansi Gando',\n",
    "    'center': {'lat':9.947918876779305,'lon':3.418565372555757},\n",
    "    'area': 0.24484826476497382\n",
    "},\n",
    "{\n",
    "    'name':'Besen Gourou',\n",
    "    'center': {'lat':9.905892745519134,'lon':3.3503704780320653},\n",
    "    'area': 0.32390345143003246\n",
    "},\n",
    "{\n",
    "    'name':'Barkedje',\n",
    "    'center': {'lat':10.025566023035594,'lon':3.2878874546252925},\n",
    "    'area': 0.8506386656949749\n",
    "},\n",
    "{\n",
    "    'name':'Boudal',\n",
    "    'center': {'lat':9.866730087086863,'lon':3.1727889023629556},\n",
    "    'area': 0.6775546353549833\n",
    "}\n",
    "]\n",
    "\n",
    "for vill in villages:\n",
    "    get_image(vill['center'], 16 , 1000 , vill['name'])\n",
    "\n"
   ]
  },
  {
   "cell_type": "code",
   "execution_count": null,
   "metadata": {},
   "outputs": [],
   "source": []
  }
 ]
}