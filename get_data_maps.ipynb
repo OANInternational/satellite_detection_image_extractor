{
 "cells": [
  {
   "cell_type": "code",
   "execution_count": 1,
   "metadata": {},
   "outputs": [],
   "source": [
    "import requests"
   ]
  },
  {
   "cell_type": "code",
   "execution_count": 2,
   "metadata": {},
   "outputs": [],
   "source": [
    "from dotenv import load_dotenv"
   ]
  },
  {
   "cell_type": "code",
   "execution_count": 3,
   "metadata": {},
   "outputs": [
    {
     "data": {
      "text/plain": [
       "True"
      ]
     },
     "execution_count": 3,
     "metadata": {},
     "output_type": "execute_result"
    }
   ],
   "source": [
    "load_dotenv()"
   ]
  },
  {
   "cell_type": "code",
   "execution_count": 4,
   "metadata": {},
   "outputs": [],
   "source": [
    "import os"
   ]
  },
  {
   "cell_type": "code",
   "execution_count": 5,
   "metadata": {},
   "outputs": [],
   "source": [
    "import json"
   ]
  },
  {
   "cell_type": "code",
   "execution_count": 6,
   "metadata": {},
   "outputs": [],
   "source": [
    "with open('inputs.json', 'r') as inputs:\n",
    "        data=inputs.read()"
   ]
  },
  {
   "cell_type": "code",
   "execution_count": 9,
   "metadata": {},
   "outputs": [],
   "source": [
    "input_json = json.loads(data)"
   ]
  },
  {
   "cell_type": "code",
   "execution_count": 10,
   "metadata": {},
   "outputs": [],
   "source": [
    "lat_lon = (42.218700, -1.849026)"
   ]
  },
  {
   "cell_type": "code",
   "execution_count": 12,
   "metadata": {},
   "outputs": [
    {
     "data": {
      "text/plain": [
       "{'API_ENDPOINT_URL': '',\n",
       " 'API_KEY': '',\n",
       " 'IMAGE_DIR': '',\n",
       " 'image_params': {'zoom': 19,\n",
       "  'size': 500,\n",
       "  'maptype': 'satellite',\n",
       "  'scale': 1,\n",
       "  'overlap': False},\n",
       " 'data': [{'name': 'Monnon',\n",
       "   'center': {'lat': 9.842512545857295,\n",
       "    'lon': 3.178864159225679,\n",
       "    'pos': '0-0'},\n",
       "   'grid_size': 5},\n",
       "  {'name': 'Sansi Gando',\n",
       "   'center': {'lat': 9.947918876779305,\n",
       "    'lon': 3.418565372555757,\n",
       "    'pos': '0-0'},\n",
       "   'grid_size': 5},\n",
       "  {'name': 'Besen Gourou',\n",
       "   'center': {'lat': 9.905892745519134,\n",
       "    'lon': 3.3503704780320653,\n",
       "    'pos': '0-0'},\n",
       "   'grid_size': 5},\n",
       "  {'name': 'Barkedje',\n",
       "   'center': {'lat': 10.025566023035594,\n",
       "    'lon': 3.2878874546252925,\n",
       "    'pos': '0-0'},\n",
       "   'grid_size': 5},\n",
       "  {'name': 'Boudal',\n",
       "   'center': {'lat': 9.866730087086863,\n",
       "    'lon': 3.1727889023629556,\n",
       "    'pos': '0-0'},\n",
       "   'grid_size': 5}]}"
      ]
     },
     "execution_count": 12,
     "metadata": {},
     "output_type": "execute_result"
    }
   ],
   "source": [
    "input_json['API_KEY'] = GOOGLE_API_KEY"
   ]
  },
  {
   "cell_type": "code",
   "execution_count": null,
   "metadata": {},
   "outputs": [],
   "source": [
    "\n",
    "# create the params object for the request\n",
    "params = {\n",
    "    'center': str(lat_lon[0]) + ',' + str(lat_lon[1]),\n",
    "    'zoom': 15,\n",
    "    'maptype': input_json['image_params']['maptype'],\n",
    "    'size': str(input_json['image_params']['size']) + 'x' + str(input_json['image_params']['size']),\n",
    "    'scale':input_json['image_params']['scale'],\n",
    "    'key': input_json['API_KEY'],\n",
    "}\n",
    "\n",
    "# make the request to the Maps Static API\n",
    "res = requests.get(url = input_json['API_ENDPOINT_URL'], params = params)"
   ]
  },
  {
   "cell_type": "code",
   "execution_count": null,
   "metadata": {},
   "outputs": [],
   "source": [
    "with open('foto_1.jpg','w') as f:\n",
    "    f.write(res)\n",
    "    f.close"
   ]
  }
 ],
 "metadata": {
  "kernelspec": {
   "display_name": "sid",
   "language": "python",
   "name": "sid"
  },
  "language_info": {
   "codemirror_mode": {
    "name": "ipython",
    "version": 3
   },
   "file_extension": ".py",
   "mimetype": "text/x-python",
   "name": "python",
   "nbconvert_exporter": "python",
   "pygments_lexer": "ipython3",
   "version": "3.8.5"
  }
 },
 "nbformat": 4,
 "nbformat_minor": 4
}
