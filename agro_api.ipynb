{
 "metadata": {
  "language_info": {
   "codemirror_mode": {
    "name": "ipython",
    "version": 3
   },
   "file_extension": ".py",
   "mimetype": "text/x-python",
   "name": "python",
   "nbconvert_exporter": "python",
   "pygments_lexer": "ipython3",
   "version": "3.8.3-final"
  },
  "orig_nbformat": 2,
  "kernelspec": {
   "name": "python_defaultSpec_1600850195912",
   "display_name": "Python 3.8.3 64-bit ('base': conda)"
  }
 },
 "nbformat": 4,
 "nbformat_minor": 2,
 "cells": [
  {
   "cell_type": "code",
   "execution_count": 30,
   "metadata": {},
   "outputs": [],
   "source": [
    "import requests\n",
    "import pprint\n",
    "import json as JSON\n",
    "import os\n",
    "from dotenv import load_dotenv\n",
    "\n",
    "load_dotenv()"
   ]
  },
  {
   "cell_type": "code",
   "execution_count": 40,
   "metadata": {},
   "outputs": [],
   "source": [
    "\n",
    "API_key = os.environ[\"API_KEY_AGRO\"]\n",
    "\n",
    "API_create_endpoint_url = \"http://api.agromonitoring.com/agro/1.0/polygons?appid=\" + API_key\n",
    "API_create_endpoint_params = {\n",
    "    \"name\":\"Polygon Name\",\n",
    "    \"geo_json\":{\n",
    "      \"type\":\"Feature\",\n",
    "      \"properties\":{\n",
    "      },\n",
    "      \"geometry\":{\n",
    "         \"type\":\"Polygon\",\n",
    "         \"coordinates\":[\n",
    "            [\n",
    "               [-121.1958,37.6683],\n",
    "               [-121.1779,37.6687],\n",
    "               [-121.1773,37.6792],\n",
    "               [-121.1958,37.6792],\n",
    "               [-121.1958,37.6683]\n",
    "            ]\n",
    "         ]\n",
    "      }\n",
    "   }\n",
    "}\n",
    "\n",
    "API_list_endpoint_url = \"http://api.agromonitoring.com/agro/1.0/polygons\"\n",
    "API_list_endpoint_params = {   \n",
    "    \"appid\":API_key\n",
    "    }\n",
    "\n",
    "API_image_endpoint_url = \"http://api.agromonitoring.com/agro/1.0/image/search\"\n",
    "API_image_endpoint_params = {\n",
    "    \"start\":1483218000,\n",
    "    \"end\":1594213200,\n",
    "    \"polygon_id\": \"5f6b16cf714b52d056e129ae\",\n",
    "    \"appid\":API_key\n",
    "}\n",
    "\n",
    "\n"
   ]
  },
  {
   "cell_type": "code",
   "execution_count": 41,
   "metadata": {
    "tags": []
   },
   "outputs": [
    {
     "output_type": "stream",
     "name": "stdout",
     "text": "[{'area': 190.6343,\n  'center': [-121.1867, 37.6739],\n  'created_at': 1600850147,\n  'geo_json': {'geometry': {'coordinates': [[[-121.1958, 37.6683],\n                                             [-121.1779, 37.6687],\n                                             [-121.1773, 37.6792],\n                                             [-121.1958, 37.6792],\n                                             [-121.1958, 37.6683]]],\n                            'type': 'Polygon'},\n               'properties': {},\n               'type': 'Feature'},\n  'id': '5f6b08e36c92830007b9814a',\n  'name': 'Default',\n  'user_id': '5f6b08e36c92830007b98147'},\n {'area': 37.8139,\n  'center': [3.1827199999999998, 9.933330000000002],\n  'created_at': 1600850470,\n  'geo_json': {'geometry': {'coordinates': [[[3.179587, 9.930858],\n                                             [3.185853, 9.930858],\n                                             [3.185853, 9.935802],\n                                             [3.179587, 9.935802],\n                                             [3.179587, 9.930858]]],\n                            'type': 'Polygon'},\n               'properties': {},\n               'type': 'Feature'},\n  'id': '5f6b0a26714b52310ae1299a',\n  'name': 'Nikki',\n  'user_id': '5f6b08e36c92830007b98147'},\n {'area': 42.8931,\n  'center': [3.3359219999999996, 8.087026000000002],\n  'created_at': 1600853711,\n  'geo_json': {'geometry': {'coordinates': [[[3.332816, 8.084212],\n                                             [3.339028, 8.084212],\n                                             [3.339028, 8.08984],\n                                             [3.332816, 8.08984],\n                                             [3.332816, 8.084212]]],\n                            'type': 'Polygon'},\n               'properties': {},\n               'type': 'Feature'},\n  'id': '5f6b16cf714b52d056e129ae',\n  'name': 'Costa de Marfil',\n  'user_id': '5f6b08e36c92830007b98147'}]\n"
    }
   ],
   "source": [
    "\n",
    "response = requests.get(url = API_list_endpoint_url, params = API_list_endpoint_params)\n",
    "pp.pprint(JSON.loads(response.content))\n"
   ]
  },
  {
   "cell_type": "code",
   "execution_count": 55,
   "metadata": {
    "tags": []
   },
   "outputs": [
    {
     "output_type": "stream",
     "name": "stdout",
     "text": "'http://api.agromonitoring.com/image/1.0/1405bb40680/5f6b16cf714b52d056e129ae?appid=0304404d17cc6f19318702aa534f47c6'\n"
    }
   ],
   "source": [
    "response = requests.get(url = API_image_endpoint_url, params = API_image_endpoint_params)\n",
    "res_json = JSON.loads(response.content)\n",
    "pp.pprint(res_json[0]['image']['evi2'])\n",
    "\n",
    "img_response = requests.get(res_json[0]['image']['evi2'])\n",
    "\n",
    "with open(r'C:/Users/fonss/Documents/Programacion/GIT/sid_image_extractor/agro_images/image.png','wb') as f:\n",
    "    f.write(img_response.content)\n",
    "\n"
   ]
  },
  {
   "cell_type": "code",
   "execution_count": null,
   "metadata": {},
   "outputs": [],
   "source": []
  }
 ]
}