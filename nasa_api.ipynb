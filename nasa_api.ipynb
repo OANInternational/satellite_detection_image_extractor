{
 "metadata": {
  "language_info": {
   "codemirror_mode": {
    "name": "ipython",
    "version": 3
   },
   "file_extension": ".py",
   "mimetype": "text/x-python",
   "name": "python",
   "nbconvert_exporter": "python",
   "pygments_lexer": "ipython3",
   "version": "3.8.3-final"
  },
  "orig_nbformat": 2,
  "kernelspec": {
   "name": "python_defaultSpec_1600854070956",
   "display_name": "Python 3"
  }
 },
 "nbformat": 4,
 "nbformat_minor": 2,
 "cells": [
  {
   "cell_type": "code",
   "execution_count": 2,
   "metadata": {},
   "outputs": [
    {
     "output_type": "execute_result",
     "data": {
      "text/plain": "True"
     },
     "metadata": {},
     "execution_count": 2
    }
   ],
   "source": [
    "import requests\n",
    "import os\n",
    "from dotenv import load_dotenv\n",
    "load_dotenv()\n"
   ]
  },
  {
   "cell_type": "code",
   "execution_count": 4,
   "metadata": {},
   "outputs": [],
   "source": [
    "API_key = os.environ[\"API_KEY_NASA\"]\n",
    "API_endpoint_url = \"https://api.nasa.gov/planetary/earth/imagery\"\n",
    "API_endpoint_params = {\n",
    "    'lat':9.934847,\n",
    "    'lon':3.207300,\n",
    "    'dim': 0.1,            # width and height of image in degrees\n",
    "    'date': '2020-08-01',  # date of image\n",
    "    'api_key': API_key\n",
    "}"
   ]
  },
  {
   "cell_type": "code",
   "execution_count": 6,
   "metadata": {
    "tags": []
   },
   "outputs": [],
   "source": [
    "# Gets the image from the API endpoint and saves it \n",
    "response = requests.get(url = API_endpoint_url, params = API_endpoint_params)\n",
    "with open(r'C:/Users/fonss/Documents/Programacion/GIT/sid_image_extractor/nasa_images/image_010.png','wb') as f:\n",
    "    f.write(response.content)\n"
   ]
  }
 ]
}